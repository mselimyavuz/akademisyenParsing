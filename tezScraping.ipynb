{
 "cells": [
  {
   "cell_type": "markdown",
   "source": [
    "YÖK Tez Veritabanı'ndan tez bilgisi alma\n",
    "POST şekli: neden=mehmet+selim+yavuz&nevi=2&izin=0&tur=0&islem=1&kaydet=+++++Bul++++++ #nevi = cinsi 1 tez adı, 2 yazar"
   ],
   "metadata": {
    "collapsed": false
   }
  },
  {
   "cell_type": "code",
   "execution_count": 8,
   "outputs": [],
   "source": [
    "import requests\n",
    "import re\n",
    "from bs4 import BeautifulSoup\n",
    "url = 'https://tez.yok.gov.tr/UlusalTezMerkezi/'\n",
    "page = requests.get('https://tez.yok.gov.tr/UlusalTezMerkezi/').text\n",
    "soup = BeautifulSoup(page, 'html.parser')\n",
    "forms = soup.find_all('form')\n",
    "for form in forms:\n",
    "    #print(form['action'])\n",
    "    url = url + form['action']\n",
    "    #print(url)\n",
    "def tezleriAl (akademisyen):\n",
    "    payload = {'neden': akademisyen, 'nevi':'2', 'izin': '0', 'tur': '0', 'islem': '1', 'kaydet':'+++++Bul++++++'} #buraya like search ekle\n",
    "\n",
    "    def post_request(url, payload):\n",
    "        try:\n",
    "            r = requests.post(url, data=payload)\n",
    "            if r.status_code == 200:\n",
    "                return r\n",
    "        except Exception as e:\n",
    "            print(e)\n",
    "\n",
    "    tezResponsePage = post_request(url, payload).text\n",
    "    tezSoup = BeautifulSoup(tezResponsePage, 'html.parser')\n",
    "    tezListScript = tezSoup.find_all('script', type='text/javascript')\n",
    "    cleanScript = str(tezListScript[-1]).replace('\\n', '')\n",
    "    cleanScript = cleanScript.replace('\\t', '')\n",
    "    cleanScript = cleanScript.replace('  ', '')\n",
    "    cleanScript = cleanScript.replace('{', '***')\n",
    "    cleanScript = cleanScript.replace('}', '***')\n",
    "    splitScript = cleanScript.split('***')\n",
    "    length = len(splitScript)\n",
    "    #len(splitScript)\n",
    "\n",
    "    i = 0\n",
    "    toBeSelected = []\n",
    "    while i < length:\n",
    "        if splitScript[i].startswith('rowNum:') == True:\n",
    "            if splitScript[i].startswith('rowNum: ') != True:\n",
    "                toBeSelected.append(i)\n",
    "        i = i + 1\n",
    "    cleanTezList = []\n",
    "    for i in toBeSelected:\n",
    "        cleanTezList.append(splitScript[i])\n",
    "    #print(cleanTezList)\n",
    "\n",
    "    itemizedList = []\n",
    "    for item in cleanTezList:\n",
    "        splitIt = item.split(',')\n",
    "        splitIt = splitIt[:-1]\n",
    "        itemizedList.append(splitIt)\n",
    "    #print(itemizedList)\n",
    "\n",
    "    tezDict = []\n",
    "    for tez in itemizedList:\n",
    "        #print(tez)\n",
    "        itemDict = {}\n",
    "        for item in tez:\n",
    "            #print(item)\n",
    "            splitted = item.split(':')\n",
    "            if len(splitted) == 1:\n",
    "                itemDict['no'] = splitted[0]\n",
    "            elif len(splitted) == 2:\n",
    "                if splitted[1][0] == ' ':\n",
    "                    if splitted[1][1] == '\\\"':\n",
    "                        itemDict[splitted[0]] = splitted[1][2:-1]\n",
    "                    else:\n",
    "                        itemDict[splitted[0]] = splitted[1][1:]\n",
    "                else:\n",
    "                    if splitted[1][0] == '\\\"':\n",
    "                        itemDict[splitted[0]] = splitted[1][1:-1]\n",
    "                    else:\n",
    "                        itemDict[splitted[0]] = splitted[1]\n",
    "            else:\n",
    "                unsplitted = ''\n",
    "                for part in splitted[1:]:\n",
    "                    unsplitted = unsplitted + part\n",
    "                if unsplitted[1] == '\\\"':\n",
    "                    itemDict[splitted[0]] = unsplitted[2:-1]\n",
    "                else:\n",
    "                    itemDict[splitted[0]] = unsplitted\n",
    "                #print(splitted)\n",
    "        tezDict.append(itemDict)\n",
    "    for index,tez in enumerate(tezDict):\n",
    "        tezDict[index]['tezNo'] = tezDict[index].pop('rowNum')\n",
    "        tezDict[index]['id'] = tezDict[index].pop(' userId')\n",
    "        tezDict[index]['no'] = tezDict[index].pop('no')\n",
    "        tezDict[index]['isim'] = tezDict[index].pop(' name')\n",
    "        tezDict[index]['tezYili'] = tezDict[index].pop('age')\n",
    "        tezDict[index]['tezBasligi'] = tezDict[index].pop(' weight')\n",
    "        tezDict[index]['uni'] = tezDict[index].pop(' uni')\n",
    "        tezDict[index]['tezDili'] = tezDict[index].pop(' height')\n",
    "        tezDict[index]['tezCinsi'] = tezDict[index].pop(' important')\n",
    "        tezDict[index]['tezKonusu'] = tezDict[index].pop(' someDate')\n",
    "    for index, tez in enumerate(tezDict):\n",
    "        tezDict[index]['id'] = tezDict[index]['id'].split('tezDetay(\\'')[-1]\n",
    "        tezDict[index]['tezBasligi'] = tezDict[index]['tezBasligi'].split('<br>')[0]\n",
    "        yeniNo = tezDict[index]['no'].split(\"\\\\'\")[0]\n",
    "        yeniNo = yeniNo.split(\"'\")[1]\n",
    "        tezDict[index]['no'] = yeniNo\n",
    "        if len(tezDict[index]['tezKonusu'].split(' = ')) != 2:\n",
    "            konu = tezDict[index]['tezKonusu'].split(' ; ')\n",
    "            konuList = []\n",
    "            for alan in konu:\n",
    "                coklu = alan.split(' = ')\n",
    "                konuList.append(coklu[0])\n",
    "            tezDict[index]['tezKonusu'] = konuList\n",
    "        else:\n",
    "            konu = tezDict[index]['tezKonusu'].split(' = ')\n",
    "            tezDict[index]['tezKonusu'] = [konu[0]]\n",
    "    for index, tez in enumerate(tezDict):\n",
    "        if 'Müzik' not in tezDict[index]['tezKonusu']:\n",
    "            tezDict.pop(index)\n",
    "    return(tezDict)"
   ],
   "metadata": {
    "collapsed": false
   }
  },
  {
   "cell_type": "code",
   "execution_count": 9,
   "outputs": [],
   "source": [
    "currentAkademisyen = tezleriAl('seyit yöre')"
   ],
   "metadata": {
    "collapsed": false
   }
  },
  {
   "cell_type": "code",
   "execution_count": 21,
   "outputs": [
    {
     "name": "stdout",
     "output_type": "stream",
     "text": [
      "found the right table division for thesis #0\n",
      "found the right table division for thesis #1\n"
     ]
    }
   ],
   "source": [
    "url = 'https://tez.yok.gov.tr/UlusalTezMerkezi/tezDetay.jsp'\n",
    "for id, tez in enumerate(currentAkademisyen):\n",
    "    payload = {'id': currentAkademisyen[id]['id'], 'no':currentAkademisyen[id]['no']}\n",
    "\n",
    "    def post_request(url, payload):\n",
    "        try:\n",
    "            r = requests.post(url, data=payload)\n",
    "            if r.status_code == 200:\n",
    "                return r\n",
    "        except Exception as e:\n",
    "            print(e)\n",
    "\n",
    "    detayResponsePage = post_request(url, payload).text\n",
    "    detaySoup = BeautifulSoup(detayResponsePage, 'html.parser')\n",
    "    for item in detaySoup.find_all('td'):\n",
    "        if str(item).find(currentAkademisyen[id]['isim']) > 0:\n",
    "            print('found the right table division for thesis #' + str(id))\n"
   ],
   "metadata": {
    "collapsed": false
   }
  },
  {
   "cell_type": "code",
   "execution_count": 3,
   "outputs": [],
   "source": [],
   "metadata": {
    "collapsed": false
   }
  }
 ],
 "metadata": {
  "kernelspec": {
   "display_name": "Python 3",
   "language": "python",
   "name": "python3"
  },
  "language_info": {
   "codemirror_mode": {
    "name": "ipython",
    "version": 2
   },
   "file_extension": ".py",
   "mimetype": "text/x-python",
   "name": "python",
   "nbconvert_exporter": "python",
   "pygments_lexer": "ipython2",
   "version": "2.7.6"
  }
 },
 "nbformat": 4,
 "nbformat_minor": 0
}
