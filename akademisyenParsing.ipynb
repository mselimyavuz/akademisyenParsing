{
 "cells": [
  {
   "cell_type": "markdown",
   "source": [
    "# akademisyenParsing\n",
    "#### by Dr. Öğr. Üy. Mehmet Selim Yavuz\n",
    "###### İstanbul Üniversitesi, Müzikoloji Departmanı\n",
    "27/10/2022\n",
    "<br>\n",
    "Bu kod YÖK Akademik veritabanından dışarıya aktarılan akademisyen listelerini csv formatına dönüştürmek içindir."
   ],
   "metadata": {
    "collapsed": false
   }
  },
  {
   "cell_type": "markdown",
   "source": [
    "İlk başta gerekli kütüphaneleri yüklememiz gerekiyor."
   ],
   "metadata": {
    "collapsed": false
   }
  },
  {
   "cell_type": "code",
   "execution_count": 27,
   "outputs": [],
   "source": [
    "import numpy as np\n",
    "import pandas as pd\n",
    "import os\n",
    "import fileinput\n"
   ],
   "metadata": {
    "collapsed": false
   }
  },
  {
   "cell_type": "markdown",
   "source": [
    "Bütün listeleri okuyup içeri alma"
   ],
   "metadata": {
    "collapsed": false
   }
  },
  {
   "cell_type": "code",
   "execution_count": 42,
   "outputs": [
    {
     "name": "stdout",
     "output_type": "stream",
     "text": [
      "['authorList-27.txt', 'authorList-33.txt', 'authorList-1.txt', 'authorList-32.txt', 'authorList-26.txt', 'authorList-18.txt', 'authorList-30.txt', 'authorList-24.txt', 'authorList-2.txt', 'authorList-3.txt', 'authorList-25.txt', 'authorList-31.txt', 'authorList-19.txt', 'authorList-35.txt', 'authorList-21.txt', '.DS_Store', 'authorList-7.txt', 'authorList-6.txt', 'authorList-20.txt', 'authorList-34.txt', 'authorList-22.txt', 'authorList-36.txt', 'authorList-4.txt', 'authorList-5.txt', 'authorList-37.txt', 'authorList-23.txt', 'authorList-78.txt', 'authorList-44.txt', 'authorList-50.txt', 'authorList-51.txt', 'authorList-45.txt', 'authorList-79.txt', 'authorList-53.txt', 'authorList-47.txt', 'authorList-46.txt', 'authorList-52.txt', 'authorList-56.txt', 'authorList-42.txt', 'authorList-43.txt', 'authorList-57.txt', 'authorList-41.txt', 'authorList-55.txt', 'authorList-69.txt', 'authorList-68.txt', 'authorList-54.txt', 'authorList-40.txt', 'authorList-59.txt', 'authorList-65.txt', 'authorList-71.txt', 'authorList-70.txt', 'authorList-64.txt', 'authorList-58.txt', 'authorList-72.txt', 'authorList-66.txt', 'authorList-67.txt', 'authorList-73.txt', 'authorList-77.txt', 'authorList-63.txt', 'authorList-62.txt', 'authorList-76.txt', 'authorList-60.txt', 'authorList-74.txt', 'authorList-48.txt', 'authorList-49.txt', 'authorList-75.txt', 'authorList-61.txt', 'authorList-12.txt', 'authorList-8.txt', 'authorList-9.txt', 'authorList-13.txt', 'authorList-39.txt', 'authorList-11.txt', 'authorList-10.txt', 'authorList-38.txt', 'authorList-14.txt', 'authorList-28.txt', 'authorList-29.txt', 'authorList-15.txt', 'authorList-17.txt', 'authorList-16.txt']\n"
     ]
    },
    {
     "ename": "UnicodeDecodeError",
     "evalue": "'utf-8' codec can't decode byte 0x80 in position 3131: invalid start byte",
     "output_type": "error",
     "traceback": [
      "\u001B[0;31m---------------------------------------------------------------------------\u001B[0m",
      "\u001B[0;31mUnicodeDecodeError\u001B[0m                        Traceback (most recent call last)",
      "\u001B[0;32m/var/folders/jm/t92wdpk13cj6tmmxh08tbhnw0000gn/T/ipykernel_10779/2252935714.py\u001B[0m in \u001B[0;36m<module>\u001B[0;34m\u001B[0m\n\u001B[1;32m      9\u001B[0m \u001B[0;34m\u001B[0m\u001B[0m\n\u001B[1;32m     10\u001B[0m \u001B[0;32mwith\u001B[0m \u001B[0mopen\u001B[0m\u001B[0;34m(\u001B[0m\u001B[0mpath\u001B[0m \u001B[0;34m+\u001B[0m \u001B[0mtxtFile\u001B[0m\u001B[0;34m)\u001B[0m \u001B[0;32mas\u001B[0m \u001B[0mf\u001B[0m\u001B[0;34m:\u001B[0m\u001B[0;34m\u001B[0m\u001B[0;34m\u001B[0m\u001B[0m\n\u001B[0;32m---> 11\u001B[0;31m     \u001B[0;32mfor\u001B[0m \u001B[0mline\u001B[0m \u001B[0;32min\u001B[0m \u001B[0mf\u001B[0m\u001B[0;34m:\u001B[0m\u001B[0;34m\u001B[0m\u001B[0;34m\u001B[0m\u001B[0m\n\u001B[0m\u001B[1;32m     12\u001B[0m         \u001B[0mprint\u001B[0m\u001B[0;34m(\u001B[0m\u001B[0mline\u001B[0m\u001B[0;34m)\u001B[0m\u001B[0;34m\u001B[0m\u001B[0;34m\u001B[0m\u001B[0m\n\u001B[1;32m     13\u001B[0m \u001B[0;34m\u001B[0m\u001B[0m\n",
      "\u001B[0;32m~/opt/anaconda3/lib/python3.9/codecs.py\u001B[0m in \u001B[0;36mdecode\u001B[0;34m(self, input, final)\u001B[0m\n\u001B[1;32m    320\u001B[0m         \u001B[0;31m# decode input (taking the buffer into account)\u001B[0m\u001B[0;34m\u001B[0m\u001B[0;34m\u001B[0m\u001B[0m\n\u001B[1;32m    321\u001B[0m         \u001B[0mdata\u001B[0m \u001B[0;34m=\u001B[0m \u001B[0mself\u001B[0m\u001B[0;34m.\u001B[0m\u001B[0mbuffer\u001B[0m \u001B[0;34m+\u001B[0m \u001B[0minput\u001B[0m\u001B[0;34m\u001B[0m\u001B[0;34m\u001B[0m\u001B[0m\n\u001B[0;32m--> 322\u001B[0;31m         \u001B[0;34m(\u001B[0m\u001B[0mresult\u001B[0m\u001B[0;34m,\u001B[0m \u001B[0mconsumed\u001B[0m\u001B[0;34m)\u001B[0m \u001B[0;34m=\u001B[0m \u001B[0mself\u001B[0m\u001B[0;34m.\u001B[0m\u001B[0m_buffer_decode\u001B[0m\u001B[0;34m(\u001B[0m\u001B[0mdata\u001B[0m\u001B[0;34m,\u001B[0m \u001B[0mself\u001B[0m\u001B[0;34m.\u001B[0m\u001B[0merrors\u001B[0m\u001B[0;34m,\u001B[0m \u001B[0mfinal\u001B[0m\u001B[0;34m)\u001B[0m\u001B[0;34m\u001B[0m\u001B[0;34m\u001B[0m\u001B[0m\n\u001B[0m\u001B[1;32m    323\u001B[0m         \u001B[0;31m# keep undecoded input until the next call\u001B[0m\u001B[0;34m\u001B[0m\u001B[0;34m\u001B[0m\u001B[0m\n\u001B[1;32m    324\u001B[0m         \u001B[0mself\u001B[0m\u001B[0;34m.\u001B[0m\u001B[0mbuffer\u001B[0m \u001B[0;34m=\u001B[0m \u001B[0mdata\u001B[0m\u001B[0;34m[\u001B[0m\u001B[0mconsumed\u001B[0m\u001B[0;34m:\u001B[0m\u001B[0;34m]\u001B[0m\u001B[0;34m\u001B[0m\u001B[0;34m\u001B[0m\u001B[0m\n",
      "\u001B[0;31mUnicodeDecodeError\u001B[0m: 'utf-8' codec can't decode byte 0x80 in position 3131: invalid start byte"
     ]
    }
   ],
   "source": [
    "workingDir = os.getcwd()\n",
    "targetDir = \"/imports/\"\n",
    "path = workingDir + targetDir\n",
    "\n",
    "dirList = os.listdir(path)\n",
    "print(dirList)\n",
    "\n",
    "akademisyenList = []\n",
    "\n",
    "with open(path + txtFile) as f:\n",
    "    for line in f:\n",
    "        print(line)\n",
    "\n",
    "print(akademisyenList)"
   ],
   "metadata": {
    "collapsed": false
   }
  },
  {
   "cell_type": "code",
   "execution_count": null,
   "outputs": [],
   "source": [],
   "metadata": {
    "collapsed": false
   }
  }
 ],
 "metadata": {
  "kernelspec": {
   "display_name": "Python 3",
   "language": "python",
   "name": "python3"
  },
  "language_info": {
   "codemirror_mode": {
    "name": "ipython",
    "version": 2
   },
   "file_extension": ".py",
   "mimetype": "text/x-python",
   "name": "python",
   "nbconvert_exporter": "python",
   "pygments_lexer": "ipython2",
   "version": "2.7.6"
  }
 },
 "nbformat": 4,
 "nbformat_minor": 0
}
