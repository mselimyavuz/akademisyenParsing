{
 "cells": [
  {
   "cell_type": "markdown",
   "source": [
    "# akademisyenParsing\n",
    "#### by Dr. Öğr. Üy. Mehmet Selim Yavuz\n",
    "###### İstanbul Üniversitesi, Müzikoloji Departmanı\n",
    "27/10/2022\n",
    "<br>\n",
    "Bu kod YÖK Akademik veritabanından dışarıya aktarılan akademisyen listelerini csv formatına dönüştürmek içindir."
   ],
   "metadata": {
    "collapsed": false
   }
  },
  {
   "cell_type": "markdown",
   "source": [
    "Lazım olan kütüphaneleri dahil edelim."
   ],
   "metadata": {
    "collapsed": false
   }
  },
  {
   "cell_type": "code",
   "execution_count": 120,
   "outputs": [],
   "source": [
    "import numpy as np\n",
    "import pandas as pd\n",
    "import os"
   ],
   "metadata": {
    "collapsed": false
   }
  },
  {
   "cell_type": "markdown",
   "source": [
    "Bütün listeleri okuyup içeri alalım."
   ],
   "metadata": {
    "collapsed": false
   }
  },
  {
   "cell_type": "code",
   "execution_count": 188,
   "outputs": [
    {
     "name": "stdout",
     "output_type": "stream",
     "text": [
      "103448, ÖĞRETİM GÖREVLİSİ, KAZIM GÜRKAN, SAKARYA ÜNİVERSİTESİ/DEVLET KONSERVATUVARI/ÇALGI EĞİTİMİ BÖLÜMÜ/TÜRK HALK MÜZİĞİ ANABİLİM DALI/, Güzel Sanatlar Temel Alanı, Müzik, Türk Halk müziği ; Türk Halk Müziği (Yorumculuk), kgurkan[at]sakarya.edu.tr, BD15416E4C4254DB\n"
     ]
    }
   ],
   "source": [
    "workingDir = os.getcwd()\n",
    "targetDir = \"/imports/\"\n",
    "path = workingDir + targetDir\n",
    "\n",
    "dirList = os.listdir(path)\n",
    "#print(dirList)\n",
    "\n",
    "akademisyenList = []\n",
    "for txtFile in dirList:\n",
    "    #print(txtFile)\n",
    "    if txtFile.endswith('.txt'):\n",
    "        with open(path + txtFile) as f:\n",
    "            for line in f:\n",
    "                if line.isspace() != True: #print(\"!!!!BURADA SIPEYS VAR!!!!\")\n",
    "                    akademisyenList.append(line.rstrip())\n",
    "    #else:\n",
    "    #    print(\"!!!! \" + txtFile + \" TXT DOSYASI DEĞİL!!!!\")\n",
    "\n",
    "print(akademisyenList[0])"
   ],
   "metadata": {
    "collapsed": false
   }
  },
  {
   "cell_type": "markdown",
   "source": [
    "Artık `akademisyenList`de YÖK formatında bilgiler mevcut."
   ],
   "metadata": {
    "collapsed": false
   }
  },
  {
   "cell_type": "markdown",
   "source": [
    "YÖK formatı: akademisyenID, titr, isim-soyisim, üniversite/fakülte/departman/ABD/, temel_alan, bilim_alanı, anahtar_kelime (varsa) ; anahtar_kelime2 (varsa) ; anahtar_kelime3 (varsa), e-posta_adresi, key"
   ],
   "metadata": {
    "collapsed": false
   }
  },
  {
   "cell_type": "markdown",
   "source": [
    "Teker teker bakabilmek için liste objelerini listeye çevirmek gerekiyor."
   ],
   "metadata": {
    "collapsed": false
   }
  },
  {
   "cell_type": "code",
   "execution_count": 189,
   "outputs": [],
   "source": [
    "akademisyen = 0\n",
    "for index, akademisyen in enumerate(akademisyenList):\n",
    "    akademisyenList[index] = akademisyen.split(\", \") # YÖK formatında virgülle ayrılan alanları ayır.\n",
    "    akademisyenList[index] = akademisyenList[index][:4] # Temel bilim alanı, bilim alanı ve anahtar kelimelere ihtiyacımız yok.\n",
    "    #print(akademisyenList[index])"
   ],
   "metadata": {
    "collapsed": false
   }
  },
  {
   "cell_type": "markdown",
   "source": [
    "Nispeten temiz bir liste elimizde. Artık üniversite kısmını ayırmak gerekiyor."
   ],
   "metadata": {
    "collapsed": false
   }
  },
  {
   "cell_type": "code",
   "execution_count": 190,
   "outputs": [],
   "source": [
    "for index, akademisyen in enumerate(akademisyenList):\n",
    "    #print(akademisyen)\n",
    "    splitList = akademisyen[3].split(\"/\")\n",
    "    #print(splitList)\n",
    "    cleanList = akademisyen + splitList\n",
    "    cleanList.pop(3) # eski listeye ihtiyacımız yok\n",
    "    #print(cleanList)\n",
    "    cleanList.pop(4) # fakülte bilgisine ihtiyacımız yok\n",
    "    #print(cleanList)\n",
    "    if cleanList[-1] == \"\": # sonda bazen boşluk var\n",
    "        cleanList.pop(-1)\n",
    "        #print(cleanList)\n",
    "    if len(cleanList) == 6:\n",
    "        cleanList.pop(4)\n",
    "        #print(cleanList)\n",
    "    akademisyenList[index] = cleanList\n",
    "    #print(akademisyen)"
   ],
   "metadata": {
    "collapsed": false
   }
  },
  {
   "cell_type": "markdown",
   "source": [
    "Artık temiz bir akademisyen listemiz mevcut. Kalan format: [0] akademisyenID, [1] titr, [2] tam_isim, [3] üniversite, [4] abd"
   ],
   "metadata": {
    "collapsed": false
   }
  },
  {
   "cell_type": "code",
   "execution_count": 191,
   "outputs": [
    {
     "name": "stdout",
     "output_type": "stream",
     "text": [
      "['103448', 'ÖĞRETİM GÖREVLİSİ', 'KAZIM GÜRKAN', 'SAKARYA ÜNİVERSİTESİ', 'TÜRK HALK MÜZİĞİ ANABİLİM DALI']\n"
     ]
    }
   ],
   "source": [
    "print(akademisyenList[0])"
   ],
   "metadata": {
    "collapsed": false
   }
  },
  {
   "cell_type": "markdown",
   "source": [
    "Şimdi Gephi'nin istediği node formatına sokalım."
   ],
   "metadata": {
    "collapsed": false
   }
  },
  {
   "cell_type": "code",
   "execution_count": 192,
   "outputs": [
    {
     "name": "stdout",
     "output_type": "stream",
     "text": [
      "['165762', 'ÖĞRETİM GÖREVLİSİ', 'EMRE SELAHATTİN YUNKUŞ', 'MERSİN ÜNİVERSİTESİ', 'YAYLI ÇALGILAR ANASANAT DALI']\n",
      "5\n",
      "['161817', 'ÖĞRETİM GÖREVLİSİ', 'MEHMET MÜNİF AKALIN', 'MERSİN ÜNİVERSİTESİ', 'YAYLI ÇALGILAR ANASANAT DALI']\n",
      "5\n"
     ]
    }
   ],
   "source": [
    "for akademisyen in akademisyenList:\n",
    "    if len(akademisyen) > 5:\n",
    "        akademisyen.pop(4)\n",
    "        akademisyen.pop(-1)\n",
    "        print(akademisyen)\n",
    "        print(len(akademisyen))"
   ],
   "metadata": {
    "collapsed": false
   }
  },
  {
   "cell_type": "code",
   "execution_count": 193,
   "outputs": [],
   "source": [
    "df = pd.DataFrame(akademisyenList, columns=['ID', 'Titr', 'Label', 'Universite', 'ABD'])"
   ],
   "metadata": {
    "collapsed": false
   }
  },
  {
   "cell_type": "code",
   "execution_count": 194,
   "outputs": [],
   "source": [
    "df.fillna('Bilgi Yok', inplace=True)"
   ],
   "metadata": {
    "collapsed": false
   }
  },
  {
   "cell_type": "code",
   "execution_count": 195,
   "outputs": [
    {
     "data": {
      "text/plain": "       ID               Titr             Label            Universite  \\\n0  103448  ÖĞRETİM GÖREVLİSİ      KAZIM GÜRKAN  SAKARYA ÜNİVERSİTESİ   \n1  117411  ÖĞRETİM GÖREVLİSİ     TUNCAY KARDAŞ  SAKARYA ÜNİVERSİTESİ   \n2  103363  ÖĞRETİM GÖREVLİSİ      METİN GÜLSÜN  SAKARYA ÜNİVERSİTESİ   \n3  122112  ÖĞRETİM GÖREVLİSİ      ERHAN BAYRAM  SAKARYA ÜNİVERSİTESİ   \n4  201910  ÖĞRETİM GÖREVLİSİ  KORKUTALP BİLGİN  SAKARYA ÜNİVERSİTESİ   \n\n                               ABD  \n0   TÜRK HALK MÜZİĞİ ANABİLİM DALI  \n1  TÜRK SANAT MÜZİĞİ ANABİLİM DALI  \n2  TÜRK SANAT MÜZİĞİ ANABİLİM DALI  \n3  TÜRK SANAT MÜZİĞİ ANABİLİM DALI  \n4  TÜRK SANAT MÜZİĞİ ANABİLİM DALI  ",
      "text/html": "<div>\n<style scoped>\n    .dataframe tbody tr th:only-of-type {\n        vertical-align: middle;\n    }\n\n    .dataframe tbody tr th {\n        vertical-align: top;\n    }\n\n    .dataframe thead th {\n        text-align: right;\n    }\n</style>\n<table border=\"1\" class=\"dataframe\">\n  <thead>\n    <tr style=\"text-align: right;\">\n      <th></th>\n      <th>ID</th>\n      <th>Titr</th>\n      <th>Label</th>\n      <th>Universite</th>\n      <th>ABD</th>\n    </tr>\n  </thead>\n  <tbody>\n    <tr>\n      <th>0</th>\n      <td>103448</td>\n      <td>ÖĞRETİM GÖREVLİSİ</td>\n      <td>KAZIM GÜRKAN</td>\n      <td>SAKARYA ÜNİVERSİTESİ</td>\n      <td>TÜRK HALK MÜZİĞİ ANABİLİM DALI</td>\n    </tr>\n    <tr>\n      <th>1</th>\n      <td>117411</td>\n      <td>ÖĞRETİM GÖREVLİSİ</td>\n      <td>TUNCAY KARDAŞ</td>\n      <td>SAKARYA ÜNİVERSİTESİ</td>\n      <td>TÜRK SANAT MÜZİĞİ ANABİLİM DALI</td>\n    </tr>\n    <tr>\n      <th>2</th>\n      <td>103363</td>\n      <td>ÖĞRETİM GÖREVLİSİ</td>\n      <td>METİN GÜLSÜN</td>\n      <td>SAKARYA ÜNİVERSİTESİ</td>\n      <td>TÜRK SANAT MÜZİĞİ ANABİLİM DALI</td>\n    </tr>\n    <tr>\n      <th>3</th>\n      <td>122112</td>\n      <td>ÖĞRETİM GÖREVLİSİ</td>\n      <td>ERHAN BAYRAM</td>\n      <td>SAKARYA ÜNİVERSİTESİ</td>\n      <td>TÜRK SANAT MÜZİĞİ ANABİLİM DALI</td>\n    </tr>\n    <tr>\n      <th>4</th>\n      <td>201910</td>\n      <td>ÖĞRETİM GÖREVLİSİ</td>\n      <td>KORKUTALP BİLGİN</td>\n      <td>SAKARYA ÜNİVERSİTESİ</td>\n      <td>TÜRK SANAT MÜZİĞİ ANABİLİM DALI</td>\n    </tr>\n  </tbody>\n</table>\n</div>"
     },
     "execution_count": 195,
     "metadata": {},
     "output_type": "execute_result"
    }
   ],
   "source": [
    "df.head()"
   ],
   "metadata": {
    "collapsed": false
   }
  },
  {
   "cell_type": "code",
   "execution_count": 196,
   "outputs": [
    {
     "name": "stdout",
     "output_type": "stream",
     "text": [
      "ID            object\n",
      "Titr          object\n",
      "Label         object\n",
      "Universite    object\n",
      "ABD           object\n",
      "Polygon        int64\n",
      "Type          object\n",
      "dtype: object\n",
      "ID             int64\n",
      "Titr          string\n",
      "Label         string\n",
      "Universite    string\n",
      "ABD           string\n",
      "Polygon        Int64\n",
      "Type          string\n",
      "dtype: object\n"
     ]
    },
    {
     "data": {
      "text/plain": "                   Titr         Label                             Universite  \\\nID                                                                             \n1279  ÖĞRETİM GÖREVLİSİ  MUSTAFA IŞIK                    ANKARA ÜNİVERSİTESİ   \n1398           PROFESÖR   CEMAL YURGA                     İNÖNÜ ÜNİVERSİTESİ   \n1914           PROFESÖR  GÖKAY YILDIZ  BURDUR MEHMET AKİF ERSOY ÜNİVERSİTESİ   \n1914           PROFESÖR  GÖKAY YILDIZ  BURDUR MEHMET AKİF ERSOY ÜNİVERSİTESİ   \n1914           PROFESÖR  GÖKAY YILDIZ  BURDUR MEHMET AKİF ERSOY ÜNİVERSİTESİ   \n\n                              ABD  Polygon         Type  \nID                                                       \n1279                    Bilgi Yok        0  Akademisyen  \n1398  MÜZİK EĞİTİMİ ANABİLİM DALI        0  Akademisyen  \n1914  MÜZİK EĞİTİMİ ANASANAT DALI        0  Akademisyen  \n1914  MÜZİK EĞİTİMİ ANASANAT DALI        0  Akademisyen  \n1914  MÜZİK EĞİTİMİ ANASANAT DALI        0  Akademisyen  ",
      "text/html": "<div>\n<style scoped>\n    .dataframe tbody tr th:only-of-type {\n        vertical-align: middle;\n    }\n\n    .dataframe tbody tr th {\n        vertical-align: top;\n    }\n\n    .dataframe thead th {\n        text-align: right;\n    }\n</style>\n<table border=\"1\" class=\"dataframe\">\n  <thead>\n    <tr style=\"text-align: right;\">\n      <th></th>\n      <th>Titr</th>\n      <th>Label</th>\n      <th>Universite</th>\n      <th>ABD</th>\n      <th>Polygon</th>\n      <th>Type</th>\n    </tr>\n    <tr>\n      <th>ID</th>\n      <th></th>\n      <th></th>\n      <th></th>\n      <th></th>\n      <th></th>\n      <th></th>\n    </tr>\n  </thead>\n  <tbody>\n    <tr>\n      <th>1279</th>\n      <td>ÖĞRETİM GÖREVLİSİ</td>\n      <td>MUSTAFA IŞIK</td>\n      <td>ANKARA ÜNİVERSİTESİ</td>\n      <td>Bilgi Yok</td>\n      <td>0</td>\n      <td>Akademisyen</td>\n    </tr>\n    <tr>\n      <th>1398</th>\n      <td>PROFESÖR</td>\n      <td>CEMAL YURGA</td>\n      <td>İNÖNÜ ÜNİVERSİTESİ</td>\n      <td>MÜZİK EĞİTİMİ ANABİLİM DALI</td>\n      <td>0</td>\n      <td>Akademisyen</td>\n    </tr>\n    <tr>\n      <th>1914</th>\n      <td>PROFESÖR</td>\n      <td>GÖKAY YILDIZ</td>\n      <td>BURDUR MEHMET AKİF ERSOY ÜNİVERSİTESİ</td>\n      <td>MÜZİK EĞİTİMİ ANASANAT DALI</td>\n      <td>0</td>\n      <td>Akademisyen</td>\n    </tr>\n    <tr>\n      <th>1914</th>\n      <td>PROFESÖR</td>\n      <td>GÖKAY YILDIZ</td>\n      <td>BURDUR MEHMET AKİF ERSOY ÜNİVERSİTESİ</td>\n      <td>MÜZİK EĞİTİMİ ANASANAT DALI</td>\n      <td>0</td>\n      <td>Akademisyen</td>\n    </tr>\n    <tr>\n      <th>1914</th>\n      <td>PROFESÖR</td>\n      <td>GÖKAY YILDIZ</td>\n      <td>BURDUR MEHMET AKİF ERSOY ÜNİVERSİTESİ</td>\n      <td>MÜZİK EĞİTİMİ ANASANAT DALI</td>\n      <td>0</td>\n      <td>Akademisyen</td>\n    </tr>\n  </tbody>\n</table>\n</div>"
     },
     "execution_count": 196,
     "metadata": {},
     "output_type": "execute_result"
    }
   ],
   "source": [
    "df['Polygon'] = 0\n",
    "df['Type'] = 'Akademisyen'\n",
    "print(df.dtypes)\n",
    "df = df.convert_dtypes()\n",
    "data_types_dict = {'ID': int}\n",
    "df = df.astype(data_types_dict)\n",
    "print(df.dtypes)\n",
    "df.set_index('ID', inplace=True)\n",
    "sorted_df = df.sort_values(by='ID')\n",
    "sorted_df.head()"
   ],
   "metadata": {
    "collapsed": false
   }
  },
  {
   "cell_type": "code",
   "execution_count": 200,
   "outputs": [
    {
     "data": {
      "text/plain": "                   Titr                Label  \\\nID                                             \n1279  ÖĞRETİM GÖREVLİSİ         MUSTAFA IŞIK   \n1398           PROFESÖR          CEMAL YURGA   \n1914           PROFESÖR         GÖKAY YILDIZ   \n2320           PROFESÖR   GÜLÇİN YAHYA KAÇAR   \n2587           PROFESÖR  MUSTAFA HİLMİ BULUT   \n\n                                 Universite                          ABD  \\\nID                                                                         \n1279                    ANKARA ÜNİVERSİTESİ                    Bilgi Yok   \n1398                     İNÖNÜ ÜNİVERSİTESİ  MÜZİK EĞİTİMİ ANABİLİM DALI   \n1914  BURDUR MEHMET AKİF ERSOY ÜNİVERSİTESİ  MÜZİK EĞİTİMİ ANASANAT DALI   \n2320   ANKARA HACI BAYRAM VELİ ÜNİVERSİTESİ  ÇALGI EĞİTİMİ ANABİLİM DALI   \n2587          SİVAS CUMHURİYET ÜNİVERSİTESİ  MÜZİK EĞİTİMİ ANASANAT DALI   \n\n      Polygon         Type  \nID                          \n1279        0  Akademisyen  \n1398        0  Akademisyen  \n1914        0  Akademisyen  \n2320        0  Akademisyen  \n2587        0  Akademisyen  ",
      "text/html": "<div>\n<style scoped>\n    .dataframe tbody tr th:only-of-type {\n        vertical-align: middle;\n    }\n\n    .dataframe tbody tr th {\n        vertical-align: top;\n    }\n\n    .dataframe thead th {\n        text-align: right;\n    }\n</style>\n<table border=\"1\" class=\"dataframe\">\n  <thead>\n    <tr style=\"text-align: right;\">\n      <th></th>\n      <th>Titr</th>\n      <th>Label</th>\n      <th>Universite</th>\n      <th>ABD</th>\n      <th>Polygon</th>\n      <th>Type</th>\n    </tr>\n    <tr>\n      <th>ID</th>\n      <th></th>\n      <th></th>\n      <th></th>\n      <th></th>\n      <th></th>\n      <th></th>\n    </tr>\n  </thead>\n  <tbody>\n    <tr>\n      <th>1279</th>\n      <td>ÖĞRETİM GÖREVLİSİ</td>\n      <td>MUSTAFA IŞIK</td>\n      <td>ANKARA ÜNİVERSİTESİ</td>\n      <td>Bilgi Yok</td>\n      <td>0</td>\n      <td>Akademisyen</td>\n    </tr>\n    <tr>\n      <th>1398</th>\n      <td>PROFESÖR</td>\n      <td>CEMAL YURGA</td>\n      <td>İNÖNÜ ÜNİVERSİTESİ</td>\n      <td>MÜZİK EĞİTİMİ ANABİLİM DALI</td>\n      <td>0</td>\n      <td>Akademisyen</td>\n    </tr>\n    <tr>\n      <th>1914</th>\n      <td>PROFESÖR</td>\n      <td>GÖKAY YILDIZ</td>\n      <td>BURDUR MEHMET AKİF ERSOY ÜNİVERSİTESİ</td>\n      <td>MÜZİK EĞİTİMİ ANASANAT DALI</td>\n      <td>0</td>\n      <td>Akademisyen</td>\n    </tr>\n    <tr>\n      <th>2320</th>\n      <td>PROFESÖR</td>\n      <td>GÜLÇİN YAHYA KAÇAR</td>\n      <td>ANKARA HACI BAYRAM VELİ ÜNİVERSİTESİ</td>\n      <td>ÇALGI EĞİTİMİ ANABİLİM DALI</td>\n      <td>0</td>\n      <td>Akademisyen</td>\n    </tr>\n    <tr>\n      <th>2587</th>\n      <td>PROFESÖR</td>\n      <td>MUSTAFA HİLMİ BULUT</td>\n      <td>SİVAS CUMHURİYET ÜNİVERSİTESİ</td>\n      <td>MÜZİK EĞİTİMİ ANASANAT DALI</td>\n      <td>0</td>\n      <td>Akademisyen</td>\n    </tr>\n  </tbody>\n</table>\n</div>"
     },
     "execution_count": 200,
     "metadata": {},
     "output_type": "execute_result"
    }
   ],
   "source": [
    "sorted_df.drop_duplicates(subset=None, keep='first', inplace=True)\n",
    "sorted_df.head()"
   ],
   "metadata": {
    "collapsed": false
   }
  },
  {
   "cell_type": "code",
   "execution_count": 201,
   "outputs": [
    {
     "name": "stdout",
     "output_type": "stream",
     "text": [
      "1533\n"
     ]
    }
   ],
   "source": [
    "print(len(sorted_df.index))"
   ],
   "metadata": {
    "collapsed": false
   }
  },
  {
   "cell_type": "code",
   "execution_count": 202,
   "outputs": [],
   "source": [
    "sorted_df.to_csv('nodes.csv', columns=['Type', 'Label', 'Titr', 'Universite', 'ABD', 'Polygon'], encoding=\"utf-16\")"
   ],
   "metadata": {
    "collapsed": false
   }
  },
  {
   "cell_type": "markdown",
   "source": [],
   "metadata": {
    "collapsed": false
   }
  },
  {
   "cell_type": "markdown",
   "source": [
    "### Change log\n",
    "2022-10-27 created file and wrote the data prep function"
   ],
   "metadata": {
    "collapsed": false
   }
  },
  {
   "cell_type": "markdown",
   "source": [],
   "metadata": {
    "collapsed": false
   }
  }
 ],
 "metadata": {
  "kernelspec": {
   "display_name": "Python 3",
   "language": "python",
   "name": "python3"
  },
  "language_info": {
   "codemirror_mode": {
    "name": "ipython",
    "version": 2
   },
   "file_extension": ".py",
   "mimetype": "text/x-python",
   "name": "python",
   "nbconvert_exporter": "python",
   "pygments_lexer": "ipython2",
   "version": "2.7.6"
  }
 },
 "nbformat": 4,
 "nbformat_minor": 0
}
