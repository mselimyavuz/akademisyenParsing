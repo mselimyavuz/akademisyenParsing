{
 "cells": [
  {
   "cell_type": "markdown",
   "source": [
    "# akademisyenParsing\n",
    "#### by Dr. Öğr. Üy. Mehmet Selim Yavuz\n",
    "###### İstanbul Üniversitesi, Müzikoloji Departmanı\n",
    "27/10/2022\n",
    "<br>\n",
    "Bu kod YÖK Akademik veritabanından dışarıya aktarılan akademisyen listelerini csv formatına dönüştürmek içindir."
   ],
   "metadata": {
    "collapsed": false
   }
  },
  {
   "cell_type": "markdown",
   "source": [
    "Lazım olan kütüphaneleri dahil edelim."
   ],
   "metadata": {
    "collapsed": false
   }
  },
  {
   "cell_type": "code",
   "execution_count": 465,
   "outputs": [],
   "source": [
    "import numpy as np\n",
    "import pandas as pd\n",
    "import os"
   ],
   "metadata": {
    "collapsed": false
   }
  },
  {
   "cell_type": "markdown",
   "source": [
    "Bütün listeleri okuyup içeri alalım."
   ],
   "metadata": {
    "collapsed": false
   }
  },
  {
   "cell_type": "code",
   "execution_count": 466,
   "outputs": [
    {
     "name": "stdout",
     "output_type": "stream",
     "text": [
      "103448, ÖĞRETİM GÖREVLİSİ, KAZIM GÜRKAN, SAKARYA ÜNİVERSİTESİ/DEVLET KONSERVATUVARI/ÇALGI EĞİTİMİ BÖLÜMÜ/TÜRK HALK MÜZİĞİ ANABİLİM DALI/, Güzel Sanatlar Temel Alanı, Müzik, Türk Halk müziği ; Türk Halk Müziği (Yorumculuk), kgurkan[at]sakarya.edu.tr, BD15416E4C4254DB\n"
     ]
    }
   ],
   "source": [
    "workingDir = os.getcwd()\n",
    "targetDir = \"/imports/\"\n",
    "path = workingDir + targetDir\n",
    "\n",
    "dirList = os.listdir(path)\n",
    "#print(dirList)\n",
    "\n",
    "akademisyenList = []\n",
    "for txtFile in dirList:\n",
    "    #print(txtFile)\n",
    "    if txtFile.endswith('.txt'):\n",
    "        with open(path + txtFile) as f:\n",
    "            for line in f:\n",
    "                if line.isspace() != True: #print(\"!!!!BURADA SIPEYS VAR!!!!\")\n",
    "                    akademisyenList.append(line.rstrip())\n",
    "    #else:\n",
    "    #    print(\"!!!! \" + txtFile + \" TXT DOSYASI DEĞİL!!!!\")\n",
    "\n",
    "print(akademisyenList[0])"
   ],
   "metadata": {
    "collapsed": false
   }
  },
  {
   "cell_type": "markdown",
   "source": [
    "Artık `akademisyenList`de YÖK formatında bilgiler mevcut."
   ],
   "metadata": {
    "collapsed": false
   }
  },
  {
   "cell_type": "markdown",
   "source": [
    "YÖK formatı: akademisyenID, titr, isim-soyisim, üniversite/fakülte/departman/ABD/, temel_alan, bilim_alanı, anahtar_kelime (varsa) ; anahtar_kelime2 (varsa) ; anahtar_kelime3 (varsa), e-posta_adresi, key"
   ],
   "metadata": {
    "collapsed": false
   }
  },
  {
   "cell_type": "markdown",
   "source": [
    "Teker teker bakabilmek için liste objelerini listeye çevirmek gerekiyor."
   ],
   "metadata": {
    "collapsed": false
   }
  },
  {
   "cell_type": "code",
   "execution_count": 467,
   "outputs": [],
   "source": [
    "akademisyen = 0\n",
    "for index, akademisyen in enumerate(akademisyenList):\n",
    "    akademisyenList[index] = akademisyen.split(\", \") # YÖK formatında virgülle ayrılan alanları ayır.\n",
    "    akademisyenList[index] = akademisyenList[index][:4] # Temel bilim alanı, bilim alanı ve anahtar kelimelere ihtiyacımız yok.\n",
    "    #print(akademisyenList[index])"
   ],
   "metadata": {
    "collapsed": false
   }
  },
  {
   "cell_type": "markdown",
   "source": [
    "Nispeten temiz bir liste elimizde. Artık üniversite kısmını ayırmak gerekiyor."
   ],
   "metadata": {
    "collapsed": false
   }
  },
  {
   "cell_type": "code",
   "execution_count": 468,
   "outputs": [],
   "source": [
    "for index, akademisyen in enumerate(akademisyenList):\n",
    "    #print(akademisyen)\n",
    "    splitList = akademisyen[3].split(\"/\")\n",
    "    #print(splitList)\n",
    "    cleanList = akademisyen + splitList\n",
    "    cleanList.pop(3) # eski listeye ihtiyacımız yok\n",
    "    #print(cleanList)\n",
    "    cleanList.pop(4) # fakülte bilgisine ihtiyacımız yok\n",
    "    #print(cleanList)\n",
    "    if cleanList[-1] == \"\": # sonda bazen boşluk var\n",
    "        cleanList.pop(-1)\n",
    "        #print(cleanList)\n",
    "    if len(cleanList) == 6:\n",
    "        cleanList.pop(4)\n",
    "        #print(cleanList)\n",
    "    akademisyenList[index] = cleanList\n",
    "    #print(akademisyen)"
   ],
   "metadata": {
    "collapsed": false
   }
  },
  {
   "cell_type": "markdown",
   "source": [
    "Artık temiz bir akademisyen listemiz mevcut. Kalan format: [0] akademisyenID, [1] titr, [2] tam_isim, [3] üniversite, [4] abd"
   ],
   "metadata": {
    "collapsed": false
   }
  },
  {
   "cell_type": "code",
   "execution_count": 469,
   "outputs": [
    {
     "name": "stdout",
     "output_type": "stream",
     "text": [
      "['103448', 'ÖĞRETİM GÖREVLİSİ', 'KAZIM GÜRKAN', 'SAKARYA ÜNİVERSİTESİ', 'TÜRK HALK MÜZİĞİ ANABİLİM DALI']\n"
     ]
    }
   ],
   "source": [
    "print(akademisyenList[0])"
   ],
   "metadata": {
    "collapsed": false
   }
  },
  {
   "cell_type": "markdown",
   "source": [
    "Şimdi Gephi'nin istediği node formatına sokalım."
   ],
   "metadata": {
    "collapsed": false
   }
  },
  {
   "cell_type": "code",
   "execution_count": 470,
   "outputs": [
    {
     "name": "stdout",
     "output_type": "stream",
     "text": [
      "['165762', 'ÖĞRETİM GÖREVLİSİ', 'EMRE SELAHATTİN YUNKUŞ', 'MERSİN ÜNİVERSİTESİ', 'YAYLI ÇALGILAR ANASANAT DALI']\n",
      "5\n",
      "['161817', 'ÖĞRETİM GÖREVLİSİ', 'MEHMET MÜNİF AKALIN', 'MERSİN ÜNİVERSİTESİ', 'YAYLI ÇALGILAR ANASANAT DALI']\n",
      "5\n"
     ]
    }
   ],
   "source": [
    "for akademisyen in akademisyenList:\n",
    "    if len(akademisyen) > 5:\n",
    "        akademisyen.pop(4)\n",
    "        akademisyen.pop(-1)\n",
    "        print(akademisyen)\n",
    "        print(len(akademisyen))"
   ],
   "metadata": {
    "collapsed": false
   }
  },
  {
   "cell_type": "code",
   "execution_count": 471,
   "outputs": [],
   "source": [
    "df = pd.DataFrame(akademisyenList, columns=['ID', 'Titr', 'Label', 'Universite', 'ABD'])"
   ],
   "metadata": {
    "collapsed": false
   }
  },
  {
   "cell_type": "code",
   "execution_count": 472,
   "outputs": [],
   "source": [
    "df.dropna(inplace=True)"
   ],
   "metadata": {
    "collapsed": false
   }
  },
  {
   "cell_type": "code",
   "execution_count": 473,
   "outputs": [
    {
     "data": {
      "text/plain": "       ID               Titr             Label            Universite  \\\n0  103448  ÖĞRETİM GÖREVLİSİ      KAZIM GÜRKAN  SAKARYA ÜNİVERSİTESİ   \n1  117411  ÖĞRETİM GÖREVLİSİ     TUNCAY KARDAŞ  SAKARYA ÜNİVERSİTESİ   \n2  103363  ÖĞRETİM GÖREVLİSİ      METİN GÜLSÜN  SAKARYA ÜNİVERSİTESİ   \n3  122112  ÖĞRETİM GÖREVLİSİ      ERHAN BAYRAM  SAKARYA ÜNİVERSİTESİ   \n4  201910  ÖĞRETİM GÖREVLİSİ  KORKUTALP BİLGİN  SAKARYA ÜNİVERSİTESİ   \n\n                               ABD  \n0   TÜRK HALK MÜZİĞİ ANABİLİM DALI  \n1  TÜRK SANAT MÜZİĞİ ANABİLİM DALI  \n2  TÜRK SANAT MÜZİĞİ ANABİLİM DALI  \n3  TÜRK SANAT MÜZİĞİ ANABİLİM DALI  \n4  TÜRK SANAT MÜZİĞİ ANABİLİM DALI  ",
      "text/html": "<div>\n<style scoped>\n    .dataframe tbody tr th:only-of-type {\n        vertical-align: middle;\n    }\n\n    .dataframe tbody tr th {\n        vertical-align: top;\n    }\n\n    .dataframe thead th {\n        text-align: right;\n    }\n</style>\n<table border=\"1\" class=\"dataframe\">\n  <thead>\n    <tr style=\"text-align: right;\">\n      <th></th>\n      <th>ID</th>\n      <th>Titr</th>\n      <th>Label</th>\n      <th>Universite</th>\n      <th>ABD</th>\n    </tr>\n  </thead>\n  <tbody>\n    <tr>\n      <th>0</th>\n      <td>103448</td>\n      <td>ÖĞRETİM GÖREVLİSİ</td>\n      <td>KAZIM GÜRKAN</td>\n      <td>SAKARYA ÜNİVERSİTESİ</td>\n      <td>TÜRK HALK MÜZİĞİ ANABİLİM DALI</td>\n    </tr>\n    <tr>\n      <th>1</th>\n      <td>117411</td>\n      <td>ÖĞRETİM GÖREVLİSİ</td>\n      <td>TUNCAY KARDAŞ</td>\n      <td>SAKARYA ÜNİVERSİTESİ</td>\n      <td>TÜRK SANAT MÜZİĞİ ANABİLİM DALI</td>\n    </tr>\n    <tr>\n      <th>2</th>\n      <td>103363</td>\n      <td>ÖĞRETİM GÖREVLİSİ</td>\n      <td>METİN GÜLSÜN</td>\n      <td>SAKARYA ÜNİVERSİTESİ</td>\n      <td>TÜRK SANAT MÜZİĞİ ANABİLİM DALI</td>\n    </tr>\n    <tr>\n      <th>3</th>\n      <td>122112</td>\n      <td>ÖĞRETİM GÖREVLİSİ</td>\n      <td>ERHAN BAYRAM</td>\n      <td>SAKARYA ÜNİVERSİTESİ</td>\n      <td>TÜRK SANAT MÜZİĞİ ANABİLİM DALI</td>\n    </tr>\n    <tr>\n      <th>4</th>\n      <td>201910</td>\n      <td>ÖĞRETİM GÖREVLİSİ</td>\n      <td>KORKUTALP BİLGİN</td>\n      <td>SAKARYA ÜNİVERSİTESİ</td>\n      <td>TÜRK SANAT MÜZİĞİ ANABİLİM DALI</td>\n    </tr>\n  </tbody>\n</table>\n</div>"
     },
     "execution_count": 473,
     "metadata": {},
     "output_type": "execute_result"
    }
   ],
   "source": [
    "df.head()"
   ],
   "metadata": {
    "collapsed": false
   }
  },
  {
   "cell_type": "code",
   "execution_count": 474,
   "outputs": [
    {
     "name": "stdout",
     "output_type": "stream",
     "text": [
      "ID            object\n",
      "Titr          object\n",
      "Label         object\n",
      "Universite    object\n",
      "ABD           object\n",
      "Polygon        int64\n",
      "Type          object\n",
      "dtype: object\n",
      "ID             int64\n",
      "Titr          string\n",
      "Label         string\n",
      "Universite    string\n",
      "ABD           string\n",
      "Polygon        Int64\n",
      "Type          string\n",
      "dtype: object\n"
     ]
    },
    {
     "data": {
      "text/plain": "          Titr               Label                             Universite  \\\nID                                                                          \n1398  PROFESÖR         CEMAL YURGA                     İNÖNÜ ÜNİVERSİTESİ   \n1914  PROFESÖR        GÖKAY YILDIZ  BURDUR MEHMET AKİF ERSOY ÜNİVERSİTESİ   \n1914  PROFESÖR        GÖKAY YILDIZ  BURDUR MEHMET AKİF ERSOY ÜNİVERSİTESİ   \n1914  PROFESÖR        GÖKAY YILDIZ  BURDUR MEHMET AKİF ERSOY ÜNİVERSİTESİ   \n2320  PROFESÖR  GÜLÇİN YAHYA KAÇAR   ANKARA HACI BAYRAM VELİ ÜNİVERSİTESİ   \n\n                              ABD  Polygon         Type  \nID                                                       \n1398  MÜZİK EĞİTİMİ ANABİLİM DALI        0  Akademisyen  \n1914  MÜZİK EĞİTİMİ ANASANAT DALI        0  Akademisyen  \n1914  MÜZİK EĞİTİMİ ANASANAT DALI        0  Akademisyen  \n1914  MÜZİK EĞİTİMİ ANASANAT DALI        0  Akademisyen  \n2320  ÇALGI EĞİTİMİ ANABİLİM DALI        0  Akademisyen  ",
      "text/html": "<div>\n<style scoped>\n    .dataframe tbody tr th:only-of-type {\n        vertical-align: middle;\n    }\n\n    .dataframe tbody tr th {\n        vertical-align: top;\n    }\n\n    .dataframe thead th {\n        text-align: right;\n    }\n</style>\n<table border=\"1\" class=\"dataframe\">\n  <thead>\n    <tr style=\"text-align: right;\">\n      <th></th>\n      <th>Titr</th>\n      <th>Label</th>\n      <th>Universite</th>\n      <th>ABD</th>\n      <th>Polygon</th>\n      <th>Type</th>\n    </tr>\n    <tr>\n      <th>ID</th>\n      <th></th>\n      <th></th>\n      <th></th>\n      <th></th>\n      <th></th>\n      <th></th>\n    </tr>\n  </thead>\n  <tbody>\n    <tr>\n      <th>1398</th>\n      <td>PROFESÖR</td>\n      <td>CEMAL YURGA</td>\n      <td>İNÖNÜ ÜNİVERSİTESİ</td>\n      <td>MÜZİK EĞİTİMİ ANABİLİM DALI</td>\n      <td>0</td>\n      <td>Akademisyen</td>\n    </tr>\n    <tr>\n      <th>1914</th>\n      <td>PROFESÖR</td>\n      <td>GÖKAY YILDIZ</td>\n      <td>BURDUR MEHMET AKİF ERSOY ÜNİVERSİTESİ</td>\n      <td>MÜZİK EĞİTİMİ ANASANAT DALI</td>\n      <td>0</td>\n      <td>Akademisyen</td>\n    </tr>\n    <tr>\n      <th>1914</th>\n      <td>PROFESÖR</td>\n      <td>GÖKAY YILDIZ</td>\n      <td>BURDUR MEHMET AKİF ERSOY ÜNİVERSİTESİ</td>\n      <td>MÜZİK EĞİTİMİ ANASANAT DALI</td>\n      <td>0</td>\n      <td>Akademisyen</td>\n    </tr>\n    <tr>\n      <th>1914</th>\n      <td>PROFESÖR</td>\n      <td>GÖKAY YILDIZ</td>\n      <td>BURDUR MEHMET AKİF ERSOY ÜNİVERSİTESİ</td>\n      <td>MÜZİK EĞİTİMİ ANASANAT DALI</td>\n      <td>0</td>\n      <td>Akademisyen</td>\n    </tr>\n    <tr>\n      <th>2320</th>\n      <td>PROFESÖR</td>\n      <td>GÜLÇİN YAHYA KAÇAR</td>\n      <td>ANKARA HACI BAYRAM VELİ ÜNİVERSİTESİ</td>\n      <td>ÇALGI EĞİTİMİ ANABİLİM DALI</td>\n      <td>0</td>\n      <td>Akademisyen</td>\n    </tr>\n  </tbody>\n</table>\n</div>"
     },
     "execution_count": 474,
     "metadata": {},
     "output_type": "execute_result"
    }
   ],
   "source": [
    "df['Polygon'] = 0\n",
    "df['Type'] = 'Akademisyen'\n",
    "print(df.dtypes)\n",
    "df = df.convert_dtypes()\n",
    "data_types_dict = {'ID': int}\n",
    "df = df.astype(data_types_dict)\n",
    "print(df.dtypes)\n",
    "df.set_index('ID', inplace=True)\n",
    "sorted_df = df.sort_values(by='ID')\n",
    "sorted_df.head()"
   ],
   "metadata": {
    "collapsed": false
   }
  },
  {
   "cell_type": "code",
   "execution_count": 475,
   "outputs": [
    {
     "data": {
      "text/plain": "          Titr                          Label  \\\nID                                              \n1398  PROFESÖR                    CEMAL YURGA   \n1914  PROFESÖR                   GÖKAY YILDIZ   \n2320  PROFESÖR             GÜLÇİN YAHYA KAÇAR   \n2587  PROFESÖR            MUSTAFA HİLMİ BULUT   \n3015  PROFESÖR  MELİK ERTUĞRUL BAYRAKTARKATAL   \n\n                                 Universite                               ABD  \\\nID                                                                              \n1398                     İNÖNÜ ÜNİVERSİTESİ       MÜZİK EĞİTİMİ ANABİLİM DALI   \n1914  BURDUR MEHMET AKİF ERSOY ÜNİVERSİTESİ       MÜZİK EĞİTİMİ ANASANAT DALI   \n2320   ANKARA HACI BAYRAM VELİ ÜNİVERSİTESİ       ÇALGI EĞİTİMİ ANABİLİM DALI   \n2587          SİVAS CUMHURİYET ÜNİVERSİTESİ       MÜZİK EĞİTİMİ ANASANAT DALI   \n3015                   BAŞKENT ÜNİVERSİTESİ  BESTECİLİK VE MÜZİK TEORİSİ PR.    \n\n      Polygon         Type  \nID                          \n1398        0  Akademisyen  \n1914        0  Akademisyen  \n2320        0  Akademisyen  \n2587        0  Akademisyen  \n3015        0  Akademisyen  ",
      "text/html": "<div>\n<style scoped>\n    .dataframe tbody tr th:only-of-type {\n        vertical-align: middle;\n    }\n\n    .dataframe tbody tr th {\n        vertical-align: top;\n    }\n\n    .dataframe thead th {\n        text-align: right;\n    }\n</style>\n<table border=\"1\" class=\"dataframe\">\n  <thead>\n    <tr style=\"text-align: right;\">\n      <th></th>\n      <th>Titr</th>\n      <th>Label</th>\n      <th>Universite</th>\n      <th>ABD</th>\n      <th>Polygon</th>\n      <th>Type</th>\n    </tr>\n    <tr>\n      <th>ID</th>\n      <th></th>\n      <th></th>\n      <th></th>\n      <th></th>\n      <th></th>\n      <th></th>\n    </tr>\n  </thead>\n  <tbody>\n    <tr>\n      <th>1398</th>\n      <td>PROFESÖR</td>\n      <td>CEMAL YURGA</td>\n      <td>İNÖNÜ ÜNİVERSİTESİ</td>\n      <td>MÜZİK EĞİTİMİ ANABİLİM DALI</td>\n      <td>0</td>\n      <td>Akademisyen</td>\n    </tr>\n    <tr>\n      <th>1914</th>\n      <td>PROFESÖR</td>\n      <td>GÖKAY YILDIZ</td>\n      <td>BURDUR MEHMET AKİF ERSOY ÜNİVERSİTESİ</td>\n      <td>MÜZİK EĞİTİMİ ANASANAT DALI</td>\n      <td>0</td>\n      <td>Akademisyen</td>\n    </tr>\n    <tr>\n      <th>2320</th>\n      <td>PROFESÖR</td>\n      <td>GÜLÇİN YAHYA KAÇAR</td>\n      <td>ANKARA HACI BAYRAM VELİ ÜNİVERSİTESİ</td>\n      <td>ÇALGI EĞİTİMİ ANABİLİM DALI</td>\n      <td>0</td>\n      <td>Akademisyen</td>\n    </tr>\n    <tr>\n      <th>2587</th>\n      <td>PROFESÖR</td>\n      <td>MUSTAFA HİLMİ BULUT</td>\n      <td>SİVAS CUMHURİYET ÜNİVERSİTESİ</td>\n      <td>MÜZİK EĞİTİMİ ANASANAT DALI</td>\n      <td>0</td>\n      <td>Akademisyen</td>\n    </tr>\n    <tr>\n      <th>3015</th>\n      <td>PROFESÖR</td>\n      <td>MELİK ERTUĞRUL BAYRAKTARKATAL</td>\n      <td>BAŞKENT ÜNİVERSİTESİ</td>\n      <td>BESTECİLİK VE MÜZİK TEORİSİ PR.</td>\n      <td>0</td>\n      <td>Akademisyen</td>\n    </tr>\n  </tbody>\n</table>\n</div>"
     },
     "execution_count": 475,
     "metadata": {},
     "output_type": "execute_result"
    }
   ],
   "source": [
    "sorted_df.drop_duplicates(subset=None, keep='first', inplace=True)\n",
    "sorted_df.head()"
   ],
   "metadata": {
    "collapsed": false
   }
  },
  {
   "cell_type": "code",
   "execution_count": 476,
   "outputs": [
    {
     "name": "stdout",
     "output_type": "stream",
     "text": [
      "1377\n"
     ]
    }
   ],
   "source": [
    "print(len(sorted_df.index))"
   ],
   "metadata": {
    "collapsed": false
   }
  },
  {
   "cell_type": "code",
   "execution_count": 477,
   "outputs": [],
   "source": [
    "sorted_df.to_csv('nodes.csv', columns=['Type', 'Label', 'Titr', 'Universite', 'ABD', 'Polygon'], encoding=\"utf-16\")"
   ],
   "metadata": {
    "collapsed": false
   }
  },
  {
   "cell_type": "code",
   "execution_count": 478,
   "outputs": [],
   "source": [
    "df = sorted_df"
   ],
   "metadata": {
    "collapsed": false
   }
  },
  {
   "cell_type": "code",
   "execution_count": 479,
   "outputs": [
    {
     "data": {
      "text/plain": "                    Universite                           ABD\n0        ADIYAMAN ÜNİVERSİTESİ      MÜZİKOLOJİ ANABİLİM DALI\n1  AFYON KOCATEPE ÜNİVERSİTESİ            KORO ANASANAT DALI\n2  AFYON KOCATEPE ÜNİVERSİTESİ           OPERA ANASANAT DALI\n3  AFYON KOCATEPE ÜNİVERSİTESİ          PİYANO ANASANAT DALI\n4  AFYON KOCATEPE ÜNİVERSİTESİ  TEMEL BİLİMLER ANASANAT DALI",
      "text/html": "<div>\n<style scoped>\n    .dataframe tbody tr th:only-of-type {\n        vertical-align: middle;\n    }\n\n    .dataframe tbody tr th {\n        vertical-align: top;\n    }\n\n    .dataframe thead th {\n        text-align: right;\n    }\n</style>\n<table border=\"1\" class=\"dataframe\">\n  <thead>\n    <tr style=\"text-align: right;\">\n      <th></th>\n      <th>Universite</th>\n      <th>ABD</th>\n    </tr>\n  </thead>\n  <tbody>\n    <tr>\n      <th>0</th>\n      <td>ADIYAMAN ÜNİVERSİTESİ</td>\n      <td>MÜZİKOLOJİ ANABİLİM DALI</td>\n    </tr>\n    <tr>\n      <th>1</th>\n      <td>AFYON KOCATEPE ÜNİVERSİTESİ</td>\n      <td>KORO ANASANAT DALI</td>\n    </tr>\n    <tr>\n      <th>2</th>\n      <td>AFYON KOCATEPE ÜNİVERSİTESİ</td>\n      <td>OPERA ANASANAT DALI</td>\n    </tr>\n    <tr>\n      <th>3</th>\n      <td>AFYON KOCATEPE ÜNİVERSİTESİ</td>\n      <td>PİYANO ANASANAT DALI</td>\n    </tr>\n    <tr>\n      <th>4</th>\n      <td>AFYON KOCATEPE ÜNİVERSİTESİ</td>\n      <td>TEMEL BİLİMLER ANASANAT DALI</td>\n    </tr>\n  </tbody>\n</table>\n</div>"
     },
     "execution_count": 479,
     "metadata": {},
     "output_type": "execute_result"
    }
   ],
   "source": [
    "uniDF = df.groupby(['Universite', 'ABD']).size().reset_index(name='Sayı')\n",
    "uniDF.drop('Sayı', axis=1, inplace=True)\n",
    "uniDF.head()"
   ],
   "metadata": {
    "collapsed": false
   }
  },
  {
   "cell_type": "code",
   "execution_count": 480,
   "outputs": [
    {
     "data": {
      "text/plain": "                          Universite  \\\n353            İSTANBUL ÜNİVERSİTESİ   \n354            İSTANBUL ÜNİVERSİTESİ   \n355     İZMİR DEMOKRASİ ÜNİVERSİTESİ   \n356  İZMİR KATİP ÇELEBİ ÜNİVERSİTESİ   \n357              ŞIRNAK ÜNİVERSİTESİ   \n\n                                            ABD  \n353                YAYLI ÇALGILAR ANASANAT DALI  \n354  ÜFLEMELİ VE VURMALI ÇALGILAR ANASANAT DALI  \n355                    MÜZİKOLOJİ ANABİLİM DALI  \n356                         MÜZİK ANASANAT DALI  \n357                         MÜZİK ANASANAT DALI  ",
      "text/html": "<div>\n<style scoped>\n    .dataframe tbody tr th:only-of-type {\n        vertical-align: middle;\n    }\n\n    .dataframe tbody tr th {\n        vertical-align: top;\n    }\n\n    .dataframe thead th {\n        text-align: right;\n    }\n</style>\n<table border=\"1\" class=\"dataframe\">\n  <thead>\n    <tr style=\"text-align: right;\">\n      <th></th>\n      <th>Universite</th>\n      <th>ABD</th>\n    </tr>\n  </thead>\n  <tbody>\n    <tr>\n      <th>353</th>\n      <td>İSTANBUL ÜNİVERSİTESİ</td>\n      <td>YAYLI ÇALGILAR ANASANAT DALI</td>\n    </tr>\n    <tr>\n      <th>354</th>\n      <td>İSTANBUL ÜNİVERSİTESİ</td>\n      <td>ÜFLEMELİ VE VURMALI ÇALGILAR ANASANAT DALI</td>\n    </tr>\n    <tr>\n      <th>355</th>\n      <td>İZMİR DEMOKRASİ ÜNİVERSİTESİ</td>\n      <td>MÜZİKOLOJİ ANABİLİM DALI</td>\n    </tr>\n    <tr>\n      <th>356</th>\n      <td>İZMİR KATİP ÇELEBİ ÜNİVERSİTESİ</td>\n      <td>MÜZİK ANASANAT DALI</td>\n    </tr>\n    <tr>\n      <th>357</th>\n      <td>ŞIRNAK ÜNİVERSİTESİ</td>\n      <td>MÜZİK ANASANAT DALI</td>\n    </tr>\n  </tbody>\n</table>\n</div>"
     },
     "execution_count": 480,
     "metadata": {},
     "output_type": "execute_result"
    }
   ],
   "source": [
    "uniDF_rev = uniDF[['ABD','Universite']].reset_index()\n",
    "uniDF_rev.drop('index', axis=1, inplace=True)\n",
    "uniDF.tail()"
   ],
   "metadata": {
    "collapsed": false
   }
  },
  {
   "cell_type": "code",
   "execution_count": 481,
   "outputs": [
    {
     "data": {
      "text/plain": "                        Source                        Target  Polygon\n0        ADIYAMAN ÜNİVERSİTESİ      MÜZİKOLOJİ ANABİLİM DALI        3\n1  AFYON KOCATEPE ÜNİVERSİTESİ            KORO ANASANAT DALI        3\n2  AFYON KOCATEPE ÜNİVERSİTESİ           OPERA ANASANAT DALI        3\n3  AFYON KOCATEPE ÜNİVERSİTESİ          PİYANO ANASANAT DALI        3\n4  AFYON KOCATEPE ÜNİVERSİTESİ  TEMEL BİLİMLER ANASANAT DALI        3",
      "text/html": "<div>\n<style scoped>\n    .dataframe tbody tr th:only-of-type {\n        vertical-align: middle;\n    }\n\n    .dataframe tbody tr th {\n        vertical-align: top;\n    }\n\n    .dataframe thead th {\n        text-align: right;\n    }\n</style>\n<table border=\"1\" class=\"dataframe\">\n  <thead>\n    <tr style=\"text-align: right;\">\n      <th></th>\n      <th>Source</th>\n      <th>Target</th>\n      <th>Polygon</th>\n    </tr>\n  </thead>\n  <tbody>\n    <tr>\n      <th>0</th>\n      <td>ADIYAMAN ÜNİVERSİTESİ</td>\n      <td>MÜZİKOLOJİ ANABİLİM DALI</td>\n      <td>3</td>\n    </tr>\n    <tr>\n      <th>1</th>\n      <td>AFYON KOCATEPE ÜNİVERSİTESİ</td>\n      <td>KORO ANASANAT DALI</td>\n      <td>3</td>\n    </tr>\n    <tr>\n      <th>2</th>\n      <td>AFYON KOCATEPE ÜNİVERSİTESİ</td>\n      <td>OPERA ANASANAT DALI</td>\n      <td>3</td>\n    </tr>\n    <tr>\n      <th>3</th>\n      <td>AFYON KOCATEPE ÜNİVERSİTESİ</td>\n      <td>PİYANO ANASANAT DALI</td>\n      <td>3</td>\n    </tr>\n    <tr>\n      <th>4</th>\n      <td>AFYON KOCATEPE ÜNİVERSİTESİ</td>\n      <td>TEMEL BİLİMLER ANASANAT DALI</td>\n      <td>3</td>\n    </tr>\n  </tbody>\n</table>\n</div>"
     },
     "execution_count": 481,
     "metadata": {},
     "output_type": "execute_result"
    }
   ],
   "source": [
    "uniDF.rename(columns={'ABD': 'Target', 'Universite':'Source'}, inplace=True)\n",
    "uniDF['Polygon'] = int(3)\n",
    "uniDF.head()"
   ],
   "metadata": {
    "collapsed": false
   }
  },
  {
   "cell_type": "code",
   "execution_count": 482,
   "outputs": [
    {
     "data": {
      "text/plain": "                                         Source  \\\n353                YAYLI ÇALGILAR ANASANAT DALI   \n354  ÜFLEMELİ VE VURMALI ÇALGILAR ANASANAT DALI   \n355                    MÜZİKOLOJİ ANABİLİM DALI   \n356                         MÜZİK ANASANAT DALI   \n357                         MÜZİK ANASANAT DALI   \n\n                              Target  Polygon  \n353            İSTANBUL ÜNİVERSİTESİ        5  \n354            İSTANBUL ÜNİVERSİTESİ        5  \n355     İZMİR DEMOKRASİ ÜNİVERSİTESİ        5  \n356  İZMİR KATİP ÇELEBİ ÜNİVERSİTESİ        5  \n357              ŞIRNAK ÜNİVERSİTESİ        5  ",
      "text/html": "<div>\n<style scoped>\n    .dataframe tbody tr th:only-of-type {\n        vertical-align: middle;\n    }\n\n    .dataframe tbody tr th {\n        vertical-align: top;\n    }\n\n    .dataframe thead th {\n        text-align: right;\n    }\n</style>\n<table border=\"1\" class=\"dataframe\">\n  <thead>\n    <tr style=\"text-align: right;\">\n      <th></th>\n      <th>Source</th>\n      <th>Target</th>\n      <th>Polygon</th>\n    </tr>\n  </thead>\n  <tbody>\n    <tr>\n      <th>353</th>\n      <td>YAYLI ÇALGILAR ANASANAT DALI</td>\n      <td>İSTANBUL ÜNİVERSİTESİ</td>\n      <td>5</td>\n    </tr>\n    <tr>\n      <th>354</th>\n      <td>ÜFLEMELİ VE VURMALI ÇALGILAR ANASANAT DALI</td>\n      <td>İSTANBUL ÜNİVERSİTESİ</td>\n      <td>5</td>\n    </tr>\n    <tr>\n      <th>355</th>\n      <td>MÜZİKOLOJİ ANABİLİM DALI</td>\n      <td>İZMİR DEMOKRASİ ÜNİVERSİTESİ</td>\n      <td>5</td>\n    </tr>\n    <tr>\n      <th>356</th>\n      <td>MÜZİK ANASANAT DALI</td>\n      <td>İZMİR KATİP ÇELEBİ ÜNİVERSİTESİ</td>\n      <td>5</td>\n    </tr>\n    <tr>\n      <th>357</th>\n      <td>MÜZİK ANASANAT DALI</td>\n      <td>ŞIRNAK ÜNİVERSİTESİ</td>\n      <td>5</td>\n    </tr>\n  </tbody>\n</table>\n</div>"
     },
     "execution_count": 482,
     "metadata": {},
     "output_type": "execute_result"
    }
   ],
   "source": [
    "uniDF_rev.rename(columns={'Universite': 'Target', 'ABD':'Source'}, inplace=True)\n",
    "uniDF_rev['Polygon'] = int(5)\n",
    "uniDF_rev.tail()"
   ],
   "metadata": {
    "collapsed": false
   }
  },
  {
   "cell_type": "code",
   "execution_count": 483,
   "outputs": [
    {
     "data": {
      "text/plain": "                                         Source  \\\n711                YAYLI ÇALGILAR ANASANAT DALI   \n712  ÜFLEMELİ VE VURMALI ÇALGILAR ANASANAT DALI   \n713                    MÜZİKOLOJİ ANABİLİM DALI   \n714                         MÜZİK ANASANAT DALI   \n715                         MÜZİK ANASANAT DALI   \n\n                              Target  Polygon  \n711            İSTANBUL ÜNİVERSİTESİ        5  \n712            İSTANBUL ÜNİVERSİTESİ        5  \n713     İZMİR DEMOKRASİ ÜNİVERSİTESİ        5  \n714  İZMİR KATİP ÇELEBİ ÜNİVERSİTESİ        5  \n715              ŞIRNAK ÜNİVERSİTESİ        5  ",
      "text/html": "<div>\n<style scoped>\n    .dataframe tbody tr th:only-of-type {\n        vertical-align: middle;\n    }\n\n    .dataframe tbody tr th {\n        vertical-align: top;\n    }\n\n    .dataframe thead th {\n        text-align: right;\n    }\n</style>\n<table border=\"1\" class=\"dataframe\">\n  <thead>\n    <tr style=\"text-align: right;\">\n      <th></th>\n      <th>Source</th>\n      <th>Target</th>\n      <th>Polygon</th>\n    </tr>\n  </thead>\n  <tbody>\n    <tr>\n      <th>711</th>\n      <td>YAYLI ÇALGILAR ANASANAT DALI</td>\n      <td>İSTANBUL ÜNİVERSİTESİ</td>\n      <td>5</td>\n    </tr>\n    <tr>\n      <th>712</th>\n      <td>ÜFLEMELİ VE VURMALI ÇALGILAR ANASANAT DALI</td>\n      <td>İSTANBUL ÜNİVERSİTESİ</td>\n      <td>5</td>\n    </tr>\n    <tr>\n      <th>713</th>\n      <td>MÜZİKOLOJİ ANABİLİM DALI</td>\n      <td>İZMİR DEMOKRASİ ÜNİVERSİTESİ</td>\n      <td>5</td>\n    </tr>\n    <tr>\n      <th>714</th>\n      <td>MÜZİK ANASANAT DALI</td>\n      <td>İZMİR KATİP ÇELEBİ ÜNİVERSİTESİ</td>\n      <td>5</td>\n    </tr>\n    <tr>\n      <th>715</th>\n      <td>MÜZİK ANASANAT DALI</td>\n      <td>ŞIRNAK ÜNİVERSİTESİ</td>\n      <td>5</td>\n    </tr>\n  </tbody>\n</table>\n</div>"
     },
     "execution_count": 483,
     "metadata": {},
     "output_type": "execute_result"
    }
   ],
   "source": [
    "totalDF = pd.concat([uniDF,uniDF_rev], axis=0).reset_index()\n",
    "totalDF.drop('index', axis=1, inplace=True)\n",
    "totalDF.tail()"
   ],
   "metadata": {
    "collapsed": false
   }
  },
  {
   "cell_type": "code",
   "execution_count": 484,
   "outputs": [
    {
     "name": "stdout",
     "output_type": "stream",
     "text": [
      "358\n",
      "716\n"
     ]
    }
   ],
   "source": [
    "print(len(uniDF.index))\n",
    "print(len(totalDF.index))"
   ],
   "metadata": {
    "collapsed": false
   }
  },
  {
   "cell_type": "code",
   "execution_count": 485,
   "outputs": [],
   "source": [
    "totalDF.to_csv('uni.csv', encoding=\"utf-16\")"
   ],
   "metadata": {
    "collapsed": false
   }
  },
  {
   "cell_type": "code",
   "execution_count": 486,
   "outputs": [
    {
     "data": {
      "text/plain": "   index                       Source                        Target  Polygon\n0      0        ADIYAMAN ÜNİVERSİTESİ      MÜZİKOLOJİ ANABİLİM DALI        3\n1      1  AFYON KOCATEPE ÜNİVERSİTESİ            KORO ANASANAT DALI        3\n2      2  AFYON KOCATEPE ÜNİVERSİTESİ           OPERA ANASANAT DALI        3\n3      3  AFYON KOCATEPE ÜNİVERSİTESİ          PİYANO ANASANAT DALI        3\n4      4  AFYON KOCATEPE ÜNİVERSİTESİ  TEMEL BİLİMLER ANASANAT DALI        3",
      "text/html": "<div>\n<style scoped>\n    .dataframe tbody tr th:only-of-type {\n        vertical-align: middle;\n    }\n\n    .dataframe tbody tr th {\n        vertical-align: top;\n    }\n\n    .dataframe thead th {\n        text-align: right;\n    }\n</style>\n<table border=\"1\" class=\"dataframe\">\n  <thead>\n    <tr style=\"text-align: right;\">\n      <th></th>\n      <th>index</th>\n      <th>Source</th>\n      <th>Target</th>\n      <th>Polygon</th>\n    </tr>\n  </thead>\n  <tbody>\n    <tr>\n      <th>0</th>\n      <td>0</td>\n      <td>ADIYAMAN ÜNİVERSİTESİ</td>\n      <td>MÜZİKOLOJİ ANABİLİM DALI</td>\n      <td>3</td>\n    </tr>\n    <tr>\n      <th>1</th>\n      <td>1</td>\n      <td>AFYON KOCATEPE ÜNİVERSİTESİ</td>\n      <td>KORO ANASANAT DALI</td>\n      <td>3</td>\n    </tr>\n    <tr>\n      <th>2</th>\n      <td>2</td>\n      <td>AFYON KOCATEPE ÜNİVERSİTESİ</td>\n      <td>OPERA ANASANAT DALI</td>\n      <td>3</td>\n    </tr>\n    <tr>\n      <th>3</th>\n      <td>3</td>\n      <td>AFYON KOCATEPE ÜNİVERSİTESİ</td>\n      <td>PİYANO ANASANAT DALI</td>\n      <td>3</td>\n    </tr>\n    <tr>\n      <th>4</th>\n      <td>4</td>\n      <td>AFYON KOCATEPE ÜNİVERSİTESİ</td>\n      <td>TEMEL BİLİMLER ANASANAT DALI</td>\n      <td>3</td>\n    </tr>\n  </tbody>\n</table>\n</div>"
     },
     "execution_count": 486,
     "metadata": {},
     "output_type": "execute_result"
    }
   ],
   "source": [
    "totalDF.reset_index(inplace=True)\n",
    "totalDF.head()"
   ],
   "metadata": {
    "collapsed": false
   }
  },
  {
   "cell_type": "code",
   "execution_count": 487,
   "outputs": [
    {
     "data": {
      "text/plain": "ID          int64\nLabel      string\nTarget     string\nPolygon     int64\ndtype: object"
     },
     "execution_count": 487,
     "metadata": {},
     "output_type": "execute_result"
    }
   ],
   "source": [
    "totalDF['index'] = totalDF['index']+1000000\n",
    "totalDF.rename(columns={'index':'ID', 'Source': 'Label'}, inplace=True)\n",
    "totalDF.head()"
   ],
   "metadata": {
    "collapsed": false
   }
  },
  {
   "cell_type": "code",
   "execution_count": 488,
   "outputs": [
    {
     "data": {
      "text/plain": "                               Label                        Target  Polygon\nID                                                                         \n1000000        ADIYAMAN ÜNİVERSİTESİ      MÜZİKOLOJİ ANABİLİM DALI        3\n1000001  AFYON KOCATEPE ÜNİVERSİTESİ            KORO ANASANAT DALI        3\n1000002  AFYON KOCATEPE ÜNİVERSİTESİ           OPERA ANASANAT DALI        3\n1000003  AFYON KOCATEPE ÜNİVERSİTESİ          PİYANO ANASANAT DALI        3\n1000004  AFYON KOCATEPE ÜNİVERSİTESİ  TEMEL BİLİMLER ANASANAT DALI        3",
      "text/html": "<div>\n<style scoped>\n    .dataframe tbody tr th:only-of-type {\n        vertical-align: middle;\n    }\n\n    .dataframe tbody tr th {\n        vertical-align: top;\n    }\n\n    .dataframe thead th {\n        text-align: right;\n    }\n</style>\n<table border=\"1\" class=\"dataframe\">\n  <thead>\n    <tr style=\"text-align: right;\">\n      <th></th>\n      <th>Label</th>\n      <th>Target</th>\n      <th>Polygon</th>\n    </tr>\n    <tr>\n      <th>ID</th>\n      <th></th>\n      <th></th>\n      <th></th>\n    </tr>\n  </thead>\n  <tbody>\n    <tr>\n      <th>1000000</th>\n      <td>ADIYAMAN ÜNİVERSİTESİ</td>\n      <td>MÜZİKOLOJİ ANABİLİM DALI</td>\n      <td>3</td>\n    </tr>\n    <tr>\n      <th>1000001</th>\n      <td>AFYON KOCATEPE ÜNİVERSİTESİ</td>\n      <td>KORO ANASANAT DALI</td>\n      <td>3</td>\n    </tr>\n    <tr>\n      <th>1000002</th>\n      <td>AFYON KOCATEPE ÜNİVERSİTESİ</td>\n      <td>OPERA ANASANAT DALI</td>\n      <td>3</td>\n    </tr>\n    <tr>\n      <th>1000003</th>\n      <td>AFYON KOCATEPE ÜNİVERSİTESİ</td>\n      <td>PİYANO ANASANAT DALI</td>\n      <td>3</td>\n    </tr>\n    <tr>\n      <th>1000004</th>\n      <td>AFYON KOCATEPE ÜNİVERSİTESİ</td>\n      <td>TEMEL BİLİMLER ANASANAT DALI</td>\n      <td>3</td>\n    </tr>\n  </tbody>\n</table>\n</div>"
     },
     "execution_count": 488,
     "metadata": {},
     "output_type": "execute_result"
    }
   ],
   "source": [
    "totalDF.set_index('ID', inplace=True)\n",
    "totalDF.head()"
   ],
   "metadata": {
    "collapsed": false
   }
  },
  {
   "cell_type": "code",
   "execution_count": 490,
   "outputs": [],
   "source": [
    "totalDF.to_csv('uniNode.csv', encoding=\"utf-16\")"
   ],
   "metadata": {
    "collapsed": false
   }
  },
  {
   "cell_type": "markdown",
   "source": [],
   "metadata": {
    "collapsed": false
   }
  },
  {
   "cell_type": "markdown",
   "source": [
    "### Change log\n",
    "2022-10-27 created file and wrote the data prep function"
   ],
   "metadata": {
    "collapsed": false
   }
  },
  {
   "cell_type": "markdown",
   "source": [],
   "metadata": {
    "collapsed": false
   }
  }
 ],
 "metadata": {
  "kernelspec": {
   "display_name": "Python 3",
   "language": "python",
   "name": "python3"
  },
  "language_info": {
   "codemirror_mode": {
    "name": "ipython",
    "version": 2
   },
   "file_extension": ".py",
   "mimetype": "text/x-python",
   "name": "python",
   "nbconvert_exporter": "python",
   "pygments_lexer": "ipython2",
   "version": "2.7.6"
  }
 },
 "nbformat": 4,
 "nbformat_minor": 0
}
