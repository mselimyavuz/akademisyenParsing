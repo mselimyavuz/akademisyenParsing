{
 "cells": [
  {
   "cell_type": "markdown",
   "source": [
    "# akademisyenParsing\n",
    "#### by Dr. Öğr. Üy. Mehmet Selim Yavuz\n",
    "###### İstanbul Üniversitesi, Müzikoloji Departmanı\n",
    "27/10/2022\n",
    "<br>\n",
    "Bu kod YÖK Akademik veritabanından dışarıya aktarılan akademisyen listelerini csv formatına dönüştürmek içindir."
   ],
   "metadata": {
    "collapsed": false
   }
  },
  {
   "cell_type": "markdown",
   "source": [
    "Lazım olan kütüphaneleri dahil edelim."
   ],
   "metadata": {
    "collapsed": false
   }
  },
  {
   "cell_type": "code",
   "execution_count": 120,
   "outputs": [],
   "source": [
    "import numpy as np\n",
    "import pandas as pd\n",
    "import os\n",
    "import fileinput\n",
    "import operator"
   ],
   "metadata": {
    "collapsed": false
   }
  },
  {
   "cell_type": "markdown",
   "source": [
    "Bütün listeleri okuyup içeri alalım."
   ],
   "metadata": {
    "collapsed": false
   }
  },
  {
   "cell_type": "code",
   "execution_count": 121,
   "outputs": [
    {
     "name": "stdout",
     "output_type": "stream",
     "text": [
      "103448, ÖĞRETİM GÖREVLİSİ, KAZIM GÜRKAN, SAKARYA ÜNİVERSİTESİ/DEVLET KONSERVATUVARI/ÇALGI EĞİTİMİ BÖLÜMÜ/TÜRK HALK MÜZİĞİ ANABİLİM DALI/, Güzel Sanatlar Temel Alanı, Müzik, Türk Halk müziği ; Türk Halk Müziği (Yorumculuk), kgurkan[at]sakarya.edu.tr, BD15416E4C4254DB\n"
     ]
    }
   ],
   "source": [
    "workingDir = os.getcwd()\n",
    "targetDir = \"/imports/\"\n",
    "path = workingDir + targetDir\n",
    "\n",
    "dirList = os.listdir(path)\n",
    "#print(dirList)\n",
    "\n",
    "akademisyenList = []\n",
    "for txtFile in dirList:\n",
    "    #print(txtFile)\n",
    "    if txtFile.endswith('.txt'):\n",
    "        with open(path + txtFile) as f:\n",
    "            for line in f:\n",
    "                if line.isspace() != True: #print(\"!!!!BURADA SIPEYS VAR!!!!\")\n",
    "                    akademisyenList.append(line.rstrip())\n",
    "    #else:\n",
    "    #    print(\"!!!! \" + txtFile + \" TXT DOSYASI DEĞİL!!!!\")\n",
    "\n",
    "print(akademisyenList[0])"
   ],
   "metadata": {
    "collapsed": false
   }
  },
  {
   "cell_type": "markdown",
   "source": [
    "Artık `akademisyenList`de YÖK formatında bilgiler mevcut."
   ],
   "metadata": {
    "collapsed": false
   }
  },
  {
   "cell_type": "markdown",
   "source": [
    "YÖK formatı: akademisyenID, titr, isim-soyisim, üniversite/fakülte/departman/ABD/, temel_alan, bilim_alanı, anahtar_kelime (varsa) ; anahtar_kelime2 (varsa) ; anahtar_kelime3 (varsa), e-posta_adresi, key"
   ],
   "metadata": {
    "collapsed": false
   }
  },
  {
   "cell_type": "markdown",
   "source": [
    "Teker teker bakabilmek için liste objelerini listeye çevirmek gerekiyor."
   ],
   "metadata": {
    "collapsed": false
   }
  },
  {
   "cell_type": "code",
   "execution_count": 122,
   "outputs": [],
   "source": [
    "akademisyen = 0\n",
    "for index, akademisyen in enumerate(akademisyenList):\n",
    "    akademisyenList[index] = akademisyen.split(\", \") # YÖK formatında virgülle ayrılan alanları ayır.\n",
    "    akademisyenList[index] = akademisyenList[index][:4] # Temel bilim alanı, bilim alanı ve anahtar kelimelere ihtiyacımız yok.\n",
    "    #print(akademisyenList[index])"
   ],
   "metadata": {
    "collapsed": false
   }
  },
  {
   "cell_type": "markdown",
   "source": [
    "Nispeten temiz bir liste elimizde. Artık üniversite kısmını ayırmak gerekiyor."
   ],
   "metadata": {
    "collapsed": false
   }
  },
  {
   "cell_type": "code",
   "execution_count": 123,
   "outputs": [],
   "source": [
    "for index, akademisyen in enumerate(akademisyenList):\n",
    "    #print(akademisyen)\n",
    "    splitList = akademisyen[3].split(\"/\")\n",
    "    #print(splitList)\n",
    "    cleanList = akademisyen + splitList\n",
    "    cleanList.pop(3) # eski listeye ihtiyacımız yok\n",
    "    #print(cleanList)\n",
    "    cleanList.pop(4) # fakülte bilgisine ihtiyacımız yok\n",
    "    #print(cleanList)\n",
    "    if cleanList[-1] == \"\": # sonda bazen boşluk var\n",
    "        cleanList.pop(-1)\n",
    "        #print(cleanList)\n",
    "    if len(cleanList) == 6:\n",
    "        cleanList.pop(4)\n",
    "        #print(cleanList)\n",
    "    akademisyenList[index] = cleanList\n",
    "    #print(akademisyen)"
   ],
   "metadata": {
    "collapsed": false
   }
  },
  {
   "cell_type": "markdown",
   "source": [
    "Artık temiz bir akademisyen listemiz mevcut. Kalan format: [0] akademisyenID, [1] titr, [2] tam_isim, [3] üniversite, [4] abd"
   ],
   "metadata": {
    "collapsed": false
   }
  },
  {
   "cell_type": "code",
   "execution_count": 124,
   "outputs": [
    {
     "name": "stdout",
     "output_type": "stream",
     "text": [
      "['103448', 'ÖĞRETİM GÖREVLİSİ', 'KAZIM GÜRKAN', 'SAKARYA ÜNİVERSİTESİ', 'TÜRK HALK MÜZİĞİ ANABİLİM DALI']\n"
     ]
    }
   ],
   "source": [
    "print(akademisyenList[0])"
   ],
   "metadata": {
    "collapsed": false
   }
  },
  {
   "cell_type": "markdown",
   "source": [],
   "metadata": {
    "collapsed": false
   }
  },
  {
   "cell_type": "markdown",
   "source": [
    "### Change log\n",
    "2022-10-27 created file and wrote the data prep function"
   ],
   "metadata": {
    "collapsed": false
   }
  },
  {
   "cell_type": "markdown",
   "source": [],
   "metadata": {
    "collapsed": false
   }
  }
 ],
 "metadata": {
  "kernelspec": {
   "display_name": "Python 3",
   "language": "python",
   "name": "python3"
  },
  "language_info": {
   "codemirror_mode": {
    "name": "ipython",
    "version": 2
   },
   "file_extension": ".py",
   "mimetype": "text/x-python",
   "name": "python",
   "nbconvert_exporter": "python",
   "pygments_lexer": "ipython2",
   "version": "2.7.6"
  }
 },
 "nbformat": 4,
 "nbformat_minor": 0
}
